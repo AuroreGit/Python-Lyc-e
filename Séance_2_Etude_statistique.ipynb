{
  "nbformat": 4,
  "nbformat_minor": 0,
  "metadata": {
    "colab": {
      "name": "Séance 2 - Etude statistique.ipynb",
      "provenance": [],
      "authorship_tag": "ABX9TyNTKDIV5ITI4mDzISL9CE0z",
      "include_colab_link": true
    },
    "kernelspec": {
      "name": "python3",
      "display_name": "Python 3"
    },
    "language_info": {
      "name": "python"
    }
  },
  "cells": [
    {
      "cell_type": "markdown",
      "metadata": {
        "id": "view-in-github",
        "colab_type": "text"
      },
      "source": [
        "<a href=\"https://colab.research.google.com/github/AuroreGit/Python-Lyc-e/blob/main/S%C3%A9ance_2_Etude_statistique.ipynb\" target=\"_parent\"><img src=\"https://colab.research.google.com/assets/colab-badge.svg\" alt=\"Open In Colab\"/></a>"
      ]
    },
    {
      "cell_type": "markdown",
      "source": [
        "# 1 - Données \n",
        "\n",
        "Le document suivant donne l'effectif journalier des naissances aux États Unis sur la période 1er janvier 1994 au 31 décembre 2014\n",
        "\n",
        "Executer le programme ci dessous."
      ],
      "metadata": {
        "id": "1l_15rgEJ4V1"
      }
    },
    {
      "cell_type": "code",
      "execution_count": null,
      "metadata": {
        "id": "KLH6jz1uSo7o"
      },
      "outputs": [],
      "source": [
        "import pandas as pd   \n",
        "url='https://raw.githubusercontent.com/AuroreGit/USbirth/main/US%20Date%20Births%201994-2014.csv'\n",
        "data =  pd.read_csv(url,sep=',')"
      ]
    },
    {
      "cell_type": "markdown",
      "source": [
        "Afficher les 10 premières lignes du tableau de données en executant la ligne **data.head()**. \n",
        "\n",
        "Executer ensuite les lignes de code suivantes et observer les résultats."
      ],
      "metadata": {
        "id": "iWhivcZu8cZN"
      }
    },
    {
      "cell_type": "code",
      "source": [
        "data.head(10)"
      ],
      "metadata": {
        "id": "QMBNDzI6sU3e"
      },
      "execution_count": null,
      "outputs": []
    },
    {
      "cell_type": "code",
      "source": [
        "data.shape # donne les dimensions du tableau précédent"
      ],
      "metadata": {
        "id": "Z0YMuQf501Gc"
      },
      "execution_count": null,
      "outputs": []
    },
    {
      "cell_type": "code",
      "source": [
        "Jour = data['Jour_Semaine'] # On renomme ici la 1ère colonne du tableau plus simplement\n",
        "Date = data['Date_du_mois']\n",
        "Mois = data['Mois']\n",
        "An = data['Annee']\n",
        "Eff = data['Effectif']"
      ],
      "metadata": {
        "id": "fcE1nXQ44UA7"
      },
      "execution_count": null,
      "outputs": []
    },
    {
      "cell_type": "code",
      "source": [
        "Jour"
      ],
      "metadata": {
        "id": "Y6vN2rW7GsVa"
      },
      "execution_count": null,
      "outputs": []
    },
    {
      "cell_type": "code",
      "source": [
        "Jour[3]"
      ],
      "metadata": {
        "id": "lzZ7vRSf24tJ"
      },
      "execution_count": null,
      "outputs": []
    },
    {
      "cell_type": "code",
      "source": [
        "Jour[67], Date[67], Mois[67],An[67]"
      ],
      "metadata": {
        "id": "2oRLLlc93N1R"
      },
      "execution_count": null,
      "outputs": []
    },
    {
      "cell_type": "markdown",
      "source": [
        "# 2 - Calcul de la moyenne et de l'écart-type\n",
        "\n",
        "Dans cette partie, nous allons pouvoir répondre à la question :\n",
        "\n",
        "***Les valeurs de cette série peuvent-elles être modélisées par une loi normale ?***"
      ],
      "metadata": {
        "id": "y__krpuUszN8"
      }
    },
    {
      "cell_type": "markdown",
      "source": [
        "## Moyenne\n",
        "\n",
        "Compléter la fonction `moyenne`, puis determiner le nombre moyen de naissances aux États Unis sur la période 1994 - 2014."
      ],
      "metadata": {
        "id": "64WZ99tyRMuU"
      }
    },
    {
      "cell_type": "code",
      "source": [
        "def moyenne(liste):   # permet de déterminer la moyenne d'une liste de données.\n",
        "  N = len(liste)\n",
        "  somme = 0.0\n",
        "  for nb in liste:\n",
        "    somme = ... + ...\n",
        "  return ..."
      ],
      "metadata": {
        "id": "OKt-SB4dOk63"
      },
      "execution_count": null,
      "outputs": []
    },
    {
      "cell_type": "code",
      "source": [
        "moyenne(Eff)"
      ],
      "metadata": {
        "id": "1TYqv_lVPFzZ"
      },
      "execution_count": null,
      "outputs": []
    },
    {
      "cell_type": "markdown",
      "source": [
        "## Écart type\n",
        "\n",
        "Compléter la fonction `ecarttype`, puis determiner l'écart type de la liste `Eff`"
      ],
      "metadata": {
        "id": "U0yuQDCLs6QB"
      }
    },
    {
      "cell_type": "code",
      "source": [
        "from numpy.ma.core import sqrt   # permet d'utiliser la fonction racine carrée \"sqrt()\"\n",
        "\n",
        "def ecarttype(liste):\n",
        "  N = len(liste)\n",
        "  m = moyenne(liste)\n",
        "  somme = 0\n",
        "  for nb in liste:\n",
        "    somme = ... + ...\n",
        "  ecart = sqrt(somme/N)\n",
        "  return ..."
      ],
      "metadata": {
        "id": "04_XuY4msPd5"
      },
      "execution_count": null,
      "outputs": []
    },
    {
      "cell_type": "code",
      "source": [
        "ecarttype(Eff)"
      ],
      "metadata": {
        "id": "XxYsUf_3tXMs"
      },
      "execution_count": null,
      "outputs": []
    },
    {
      "cell_type": "markdown",
      "source": [
        "## Déterminer le pourcentage de valeurs de la série dans les intervalles [ μ - σ ; μ - σ ] et [ μ - 2σ ; μ - 2σ ]\n",
        "\n",
        "Ici μ désigne la moyenne et σ l'écart-type de la série. \n"
      ],
      "metadata": {
        "id": "vp-VFcCLv8qw"
      }
    },
    {
      "cell_type": "code",
      "source": [
        "def int1sigma(colonne):\n",
        "  N = len(colonne)\n",
        "  m=moyenne(colonne)\n",
        "  e=ecarttype(colonne)\n",
        "  compteur = 0\n",
        "  for nb in colonne:\n",
        "    if nb >  ... and nb < ... :\n",
        "      compteur = ... + ...\n",
        "  return ..."
      ],
      "metadata": {
        "id": "jLpFDAENwXAS"
      },
      "execution_count": null,
      "outputs": []
    },
    {
      "cell_type": "code",
      "source": [
        "int1sigma(Eff)"
      ],
      "metadata": {
        "id": "OzDi_olnx3sw"
      },
      "execution_count": null,
      "outputs": []
    },
    {
      "cell_type": "code",
      "source": [
        "def int2sigma(colonne):\n",
        "  N = len(colonne)\n",
        "  m = moyenne(colonne)\n",
        "  e = ecarttype(colonne)\n",
        "  compteur = 0\n",
        "\n",
        "\n",
        "\n",
        "\n"
      ],
      "metadata": {
        "id": "GufeM2pTyKVT"
      },
      "execution_count": null,
      "outputs": []
    },
    {
      "cell_type": "code",
      "source": [
        "int2sigma(Eff)"
      ],
      "metadata": {
        "id": "bl-8Qwh9yN7w"
      },
      "execution_count": null,
      "outputs": []
    },
    {
      "cell_type": "markdown",
      "source": [
        "### Les valeurs de cette série peuvent-elles être modélisées par une loi normale ?\n",
        "En statistique, la règle 68-95-99,7 (ou règle des trois sigmas) indique que pour une loi normale, presque toutes les valeurs se situent dans un intervalle centré autour de la moyenne.\n",
        "\n",
        "Environ 68,27 % des valeurs se situent à moins d'un écart-type de la moyenne. De même, environ 95,45 % des valeurs se situent à moins de 2 écarts-types de la moyenne. La quasi-totalité (99,73 %) des valeurs se situent à moins de 3 écarts-types de la moyenne."
      ],
      "metadata": {
        "id": "JShfcgdUPZSj"
      }
    },
    {
      "cell_type": "markdown",
      "source": [
        "*Votre réponse *"
      ],
      "metadata": {
        "id": "hzoHf5ZEoJGu"
      }
    },
    {
      "cell_type": "markdown",
      "source": [
        "# 3 - Étendue - Valeurs extrêmes\n",
        "\n",
        "Dans cette partie, nous allons pouvoir répondre à la question :\n",
        "\n",
        "***A quelle date sur la période 1994 - 2014 le nombre des naissances a-t-il atteind un record maximal ? Et son record minimal ?***"
      ],
      "metadata": {
        "id": "Zx3GpN3Qu0FZ"
      }
    },
    {
      "cell_type": "markdown",
      "source": [
        "## Recherche du nombre maximum de naissances journalière sur la période 1994 - 2014\n",
        "\n",
        "La fonction **max** ci dessous permet de déterminer la valeur maximale d'une liste de valeurs.\n",
        "\n",
        "Exececuter le programme ci dessous, puis déterminer l'effectif maximal de naissances sur la période."
      ],
      "metadata": {
        "id": "UnxSs_lPKbw1"
      }
    },
    {
      "cell_type": "code",
      "source": [
        "def max (liste) :\n",
        "    maximum = 0.0\n",
        "    for nb in liste :\n",
        "        if nb > maximum :\n",
        "          maximum = nb\n",
        "    return maximum"
      ],
      "metadata": {
        "id": "ifZsUtTdnzWf"
      },
      "execution_count": null,
      "outputs": []
    },
    {
      "cell_type": "code",
      "source": [
        "max (Eff)   # ici, on applique la fonction max (créée ci dessus) à la liste Eff (des effectifs)"
      ],
      "metadata": {
        "id": "BX9QMJG0vZbC"
      },
      "execution_count": null,
      "outputs": []
    },
    {
      "cell_type": "markdown",
      "source": [
        "## Recherche du nombre minumum de naissances journalière et de la date de ce minimum\n",
        "\n",
        "En s'inspirant de la fonction **max**, écrire une fonction **min** qui permet de déterminer la valeur minimale d'une liste de valeurs. \n",
        "\n",
        "Déterminer l'effectif minimal de naissances sur la période."
      ],
      "metadata": {
        "id": "xhXpR8mfKrN2"
      }
    },
    {
      "cell_type": "code",
      "source": [
        "def min (liste):\n",
        "\n",
        "\n",
        "\n",
        "\n",
        "\n"
      ],
      "metadata": {
        "id": "Q6wYg_bJqLCS"
      },
      "execution_count": null,
      "outputs": []
    },
    {
      "cell_type": "code",
      "source": [
        ""
      ],
      "metadata": {
        "id": "udDnWddmqL54"
      },
      "execution_count": null,
      "outputs": []
    },
    {
      "cell_type": "markdown",
      "source": [
        "## Calcul de l'étendue\n",
        "\n",
        "Ecrire une fonction **etendue** qui permet de déterminer l'étendue d'une liste de valeurs.\n",
        "\n",
        "Déterminer l'étendue de la liste  "
      ],
      "metadata": {
        "id": "XGdIqdIFKxK6"
      }
    },
    {
      "cell_type": "code",
      "source": [
        "\n",
        "\n"
      ],
      "metadata": {
        "id": "VyR_4Vo3qVs8"
      },
      "execution_count": null,
      "outputs": []
    },
    {
      "cell_type": "code",
      "source": [
        ""
      ],
      "metadata": {
        "id": "AQqC-7Rzr_XU"
      },
      "execution_count": null,
      "outputs": []
    },
    {
      "cell_type": "markdown",
      "source": [
        "## A quelle date sur la période 1994 - 2014 le nombre des naissances a-t-il atteind un record maximal ? Et son record minimal ?\n"
      ],
      "metadata": {
        "id": "yOmf42lPCHvp"
      }
    },
    {
      "cell_type": "code",
      "source": [
        "# Ce programme doit renvoyer la date à laquelle le nombre de naissances a atteind sa valeur maximale\n",
        "ma = max(Eff) \n",
        "N = len(Eff)\n",
        "for i in range (N):\n",
        "  if Eff[i] == ma :\n",
        "    print (...)     # compléter cette ligne"
      ],
      "metadata": {
        "id": "Eh6ajXUx4aDe"
      },
      "execution_count": null,
      "outputs": []
    },
    {
      "cell_type": "code",
      "source": [
        "# Ce programme doit renvoyer la date à laquelle le nombre de naissances a atteind sa valeur maximale\n",
        "\n",
        "\n",
        "\n",
        "\n"
      ],
      "metadata": {
        "id": "ClcaNmg18G-d"
      },
      "execution_count": null,
      "outputs": []
    },
    {
      "cell_type": "markdown",
      "source": [
        "# 4 - Boîte à Moustaches"
      ],
      "metadata": {
        "id": "X0wY6ezmHiqc"
      }
    },
    {
      "cell_type": "markdown",
      "source": [
        "Executer le programme ci-dessous et interpréter les résultats obtenus."
      ],
      "metadata": {
        "id": "9x3doIaP5nP1"
      }
    },
    {
      "cell_type": "code",
      "source": [
        "import matplotlib.pyplot as plt\n",
        "plt.boxplot(x = Eff)"
      ],
      "metadata": {
        "id": "zWLOhFX-HJky"
      },
      "execution_count": null,
      "outputs": []
    },
    {
      "cell_type": "markdown",
      "source": [
        "*Votre réponse *"
      ],
      "metadata": {
        "id": "QQwYNdwJAdox"
      }
    },
    {
      "cell_type": "markdown",
      "source": [
        "# 5 - Répartition des naissances. \n",
        "\n",
        "Dans cette partie nous pourrons répondre à la question :\n",
        "\n",
        "***Y a-t-il plus de naissances en juillet qu'en décembre ? le lundi que le dimanche ?***\n",
        "\n",
        "Executer le programme suivant ainsi que les lignes de code puis expliquer l'intérêt de la fonction `compte_liste`."
      ],
      "metadata": {
        "id": "E07MEtUHErOi"
      }
    },
    {
      "cell_type": "code",
      "source": [
        "def compte_eff(liste,mot):\n",
        "  D = 0\n",
        "  N = len(liste)\n",
        "  for i in range (N):\n",
        "    if liste[i] == mot:\n",
        "      D = D + 1\n",
        "  return (D)"
      ],
      "metadata": {
        "id": "mYI7kIVOk20h"
      },
      "execution_count": null,
      "outputs": []
    },
    {
      "cell_type": "code",
      "source": [
        "compte_eff(Jour,'Dimanche') "
      ],
      "metadata": {
        "id": "-WoWnm8llVkw"
      },
      "execution_count": null,
      "outputs": []
    },
    {
      "cell_type": "code",
      "source": [
        "compte_eff(Mois,'Mai')"
      ],
      "metadata": {
        "id": "PlHojSn4O22I"
      },
      "execution_count": null,
      "outputs": []
    },
    {
      "cell_type": "code",
      "source": [
        "compte_eff(An,1996)"
      ],
      "metadata": {
        "id": "C9PzFEurPIf4"
      },
      "execution_count": null,
      "outputs": []
    },
    {
      "cell_type": "markdown",
      "source": [
        "*Votre réponse *"
      ],
      "metadata": {
        "id": "yDLLZG5vO4bs"
      }
    },
    {
      "cell_type": "markdown",
      "source": [
        "## Répartition mensuelle\n",
        "\n",
        "Executer le programme ci dessous et expliquer ce qu'il renvoie."
      ],
      "metadata": {
        "id": "6Yo8hKLH8qXK"
      }
    },
    {
      "cell_type": "code",
      "source": [
        "L = [0, 0, 0, 0, 0, 0, 0, 0, 0, 0, 0, 0]\n",
        "J = ['Janvier','Fevrier','Mars','Avril','Mai','Juin','Juillet','Aout', 'Septembre', 'Octobre', 'Novembre', 'Decembre']\n",
        "for j in range(12):\n",
        "  D=0\n",
        "  for i in data.index:\n",
        "    if Mois[i] == J[j]:\n",
        "      D = D + Eff[i]\n",
        "  L[j]=round((D/compte_eff(Mois,J[j])),0)\n",
        "L"
      ],
      "metadata": {
        "id": "EG7JcO4Q7VPG"
      },
      "execution_count": null,
      "outputs": []
    },
    {
      "cell_type": "markdown",
      "source": [
        "*Votre réponse *"
      ],
      "metadata": {
        "id": "dm8HB85rSV0B"
      }
    },
    {
      "cell_type": "markdown",
      "source": [
        "Executer le programme ci-dessous.\n"
      ],
      "metadata": {
        "id": "EjIgdWlRSAOZ"
      }
    },
    {
      "cell_type": "code",
      "source": [
        "import matplotlib.pyplot as plt  \n",
        "M = ['Ja','F','M','Av','Mai','Jn','J','A', 'S', 'O','N', 'D']\n",
        "val = [10678.0, 10940.0, 10940.0, 10836.0, 10984.0, 11267.0, 11522.0, 11668.0, 11764.0, 11158.0, 10881.0, 10942.0]\n",
        "\n",
        "width = 0.2\n",
        "plt.bar(M, val, width, color='b' )\n",
        "plt.show()\n"
      ],
      "metadata": {
        "id": "HE4EvfQ0_Vg1"
      },
      "execution_count": null,
      "outputs": []
    },
    {
      "cell_type": "markdown",
      "source": [
        "## Répartition sur les jours de la semaine\n",
        "\n",
        "### Est-il vrai que les naissances sont plus fréquentes le lundi que le dimanche ?\n",
        "\n",
        "En s'inspirant de ce qui vien d'être fait, proposer un histogramme permettant de comparer le nombre moyen des naissances du lundi au dimanche. Répondre à la question posée et commenter."
      ],
      "metadata": {
        "id": "kUQap7YqxCp-"
      }
    },
    {
      "cell_type": "code",
      "source": [
        "\n",
        "\n",
        "\n",
        "\n"
      ],
      "metadata": {
        "id": "tpss1Rtp7KRP"
      },
      "execution_count": null,
      "outputs": []
    },
    {
      "cell_type": "code",
      "source": [
        "\n",
        "\n",
        "\n",
        "\n"
      ],
      "metadata": {
        "id": "ZX84CRofArnB"
      },
      "execution_count": null,
      "outputs": []
    },
    {
      "cell_type": "markdown",
      "source": [
        "# 6 - Superstition ou mythe ? \n",
        "\n",
        "Nous allons vérifier si le nombre de naissances est plus faible les jours suivants :\n",
        "\n",
        "*   les vendredi 13 ? \n",
        "*   les 29 février ?\n",
        "*   le jour de Noël ?\n",
        "*   le jour de Thanksgiving ?\n"
      ],
      "metadata": {
        "id": "JXeyCcvhvksY"
      }
    },
    {
      "cell_type": "markdown",
      "source": [
        "## Moyenne journalière des naissances les vendredi 13"
      ],
      "metadata": {
        "id": "ZQL75LOEYlp1"
      }
    },
    {
      "cell_type": "markdown",
      "source": [
        "Le programme suivant compte le nombre de vendredi 13 sur la période 1994-2014"
      ],
      "metadata": {
        "id": "Pa8uLUsQLCnE"
      }
    },
    {
      "cell_type": "code",
      "source": [
        "C = 0\n",
        "N = len (Date)\n",
        "for i in data.index:\n",
        "  if Date[i] == 13 and Jour[i] == 'Vendredi':\n",
        "    C = C + 1\n",
        "print (C)"
      ],
      "metadata": {
        "id": "xohH5dB47l6I"
      },
      "execution_count": null,
      "outputs": []
    },
    {
      "cell_type": "markdown",
      "source": [
        "Nombre moyen de naissances les vendredi 13\n",
        "\n",
        "\n"
      ],
      "metadata": {
        "id": "R_hhYwBygCmr"
      }
    },
    {
      "cell_type": "code",
      "source": [
        "C=0\n",
        "N = len(Date)\n",
        "for i in range (N):\n",
        "  if Date[i] == 13 and Jour[i]=='Vendredi':\n",
        "    C = C + Eff[i]\n",
        "print (C/35)"
      ],
      "metadata": {
        "id": "HHOjCDUx8NQs"
      },
      "execution_count": null,
      "outputs": []
    },
    {
      "cell_type": "markdown",
      "source": [
        "## Moyenne journalière des naissances les 29 février"
      ],
      "metadata": {
        "id": "81a6tG8WLL6k"
      }
    },
    {
      "cell_type": "code",
      "source": [
        ""
      ],
      "metadata": {
        "id": "tM_K4lQT86Lq"
      },
      "execution_count": null,
      "outputs": []
    },
    {
      "cell_type": "code",
      "source": [
        ""
      ],
      "metadata": {
        "id": "loNJ97LSpMWc"
      },
      "execution_count": null,
      "outputs": []
    },
    {
      "cell_type": "markdown",
      "source": [
        "## Moyenne journalière des naissances les 25 décembre\n"
      ],
      "metadata": {
        "id": "b4zdv_zbLRXj"
      }
    },
    {
      "cell_type": "code",
      "source": [
        ""
      ],
      "metadata": {
        "id": "alXC3Y4Q9M-T"
      },
      "execution_count": null,
      "outputs": []
    },
    {
      "cell_type": "code",
      "source": [
        ""
      ],
      "metadata": {
        "id": "3IbDMwrE9axI"
      },
      "execution_count": null,
      "outputs": []
    },
    {
      "cell_type": "markdown",
      "source": [
        "## Bonus\n",
        "\n",
        "Déterminer le nombre moyen des naissances le jour de Thanksgiving (4ème jeudi du mois de Novembre)\n",
        "\n",
        "*Aide : Le jour de Thanksgiving est un jeudi entre le 22 et le 28 du mois de Novembre. *"
      ],
      "metadata": {
        "id": "jAggKdf6JcSE"
      }
    },
    {
      "cell_type": "code",
      "source": [
        ""
      ],
      "metadata": {
        "id": "I1oXRmuR9sgE"
      },
      "execution_count": null,
      "outputs": []
    },
    {
      "cell_type": "code",
      "source": [
        ""
      ],
      "metadata": {
        "id": "1ZKUP5EM9-1t"
      },
      "execution_count": null,
      "outputs": []
    },
    {
      "cell_type": "markdown",
      "source": [
        "# 7 - Recherche libre\n",
        "\n",
        "A votre tour de créer un programme qui permette de répondre à une question de votre choix."
      ],
      "metadata": {
        "id": "aeiXZibIpisE"
      }
    }
  ]
}