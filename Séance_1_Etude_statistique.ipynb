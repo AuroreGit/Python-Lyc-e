{
  "nbformat": 4,
  "nbformat_minor": 0,
  "metadata": {
    "colab": {
      "name": "Séance 1 - Etude statistique.ipynb",
      "provenance": [],
      "authorship_tag": "ABX9TyO6YINwyjqfRqH8VWIj6Jzh",
      "include_colab_link": true
    },
    "kernelspec": {
      "name": "python3",
      "display_name": "Python 3"
    },
    "language_info": {
      "name": "python"
    }
  },
  "cells": [
    {
      "cell_type": "markdown",
      "metadata": {
        "id": "view-in-github",
        "colab_type": "text"
      },
      "source": [
        "<a href=\"https://colab.research.google.com/github/AuroreGit/Python-Lyc-e/blob/main/S%C3%A9ance_1_Etude_statistique.ipynb\" target=\"_parent\"><img src=\"https://colab.research.google.com/assets/colab-badge.svg\" alt=\"Open In Colab\"/></a>"
      ]
    },
    {
      "cell_type": "markdown",
      "source": [
        "# Relevé des données \n",
        "\n",
        "***Question : \"Combien de temps as-tu pris ce matin pour effectuer le trajet porte à porte de ton domicile jusqu'au lycée ?\"***\n",
        "\n",
        "Chaque élève de la classe va répondre à la question posée et on va dresser la liste brute des données. \n",
        "\n",
        "On nommera `L` cette liste. \n",
        "\n",
        "***Rappel : Une liste se note entre crochets et les valeurs sont séparées par des virgules.***\n"
      ],
      "metadata": {
        "id": "JIOj0NxQqVoO"
      }
    },
    {
      "cell_type": "code",
      "execution_count": null,
      "metadata": {
        "id": "CC55MtUfqS0U"
      },
      "outputs": [],
      "source": [
        "L = []"
      ]
    },
    {
      "cell_type": "markdown",
      "source": [
        "# Calcul de la moyenne et de l'écart-type"
      ],
      "metadata": {
        "id": "SzNru2J0v_CZ"
      }
    },
    {
      "cell_type": "markdown",
      "source": [
        "Executer le programme ci-contre et expliquer ce qu'il permet de déterminer."
      ],
      "metadata": {
        "id": "ftV_qfAQxjLL"
      }
    },
    {
      "cell_type": "code",
      "source": [
        "N = len(L)\n",
        "print(N)"
      ],
      "metadata": {
        "id": "5vE-FQYzwrLG"
      },
      "execution_count": null,
      "outputs": []
    },
    {
      "cell_type": "markdown",
      "source": [
        "*Votre réponse *"
      ],
      "metadata": {
        "id": "uRZejGyKxv4T"
      }
    },
    {
      "cell_type": "markdown",
      "source": [
        "## Moyenne\n",
        "\n",
        "Compléter le programme suivant permettant de calculer la moyenne (arrondie au dixième près) d'une liste de valeurs.\n",
        "\n",
        "Ensuite appliquer la fonction `moyenne` à la liste `L` pour obtenir la durée moyenne du trajet \"Domicile - Lycée\" des élèves."
      ],
      "metadata": {
        "id": "6Fm1ZIRdtjxr"
      }
    },
    {
      "cell_type": "code",
      "source": [
        "def moyenne(liste):  # La fonction suivante permet de calculer la moyenne de n'importe quelle liste de nombres\n",
        "  N = len(liste)\n",
        "  somme = 0\n",
        "  for valeur in liste:\n",
        "    somme = ... + ...\n",
        "  return round(somme/... , ...)  # La fonction round(Nb,3) renvoie l'arrondi au millième du nombre \"Nb\""
      ],
      "metadata": {
        "id": "0pJmHTlBwxJO"
      },
      "execution_count": null,
      "outputs": []
    },
    {
      "cell_type": "code",
      "source": [
        "moyenne(L)"
      ],
      "metadata": {
        "id": "kKJGQhzFGDRY"
      },
      "execution_count": null,
      "outputs": []
    },
    {
      "cell_type": "markdown",
      "source": [
        "## Écart-type\n",
        "\n",
        "On va maintenant calculer l'écart-type de cette série.\n",
        "\n",
        "Compléter la fonction `ectype` permettant de renvoyer l'écart type (arrondi au dixième).\n",
        "\n",
        "**Rappel : L'écart type d'une suite de nombre est la racine carrée de la variance.**\n",
        "\n",
        "*La variance s'obtient en calculant* \n",
        "\n",
        "Variance = [(valeur1 - moyenne)^2 + (valeur2 - moyenne)^2 + ... + (valeur finale - moyenne)^2] / nombre de valeurs **\n",
        "\n",
        "Ensuite appliquer la fonction `ectype` à la liste `L` pour déterminer l'écart-type de cette liste.\n",
        "\n"
      ],
      "metadata": {
        "id": "cVpt8-KfGF_k"
      }
    },
    {
      "cell_type": "code",
      "source": [
        "from numpy.ma.core import sqrt             # permet d'utiliser la fonction racine carrée notée ici \"sqrt()\"\n",
        "\n",
        "def ectype(liste):\n",
        "  N = ...\n",
        "  m = ...\n",
        "  somme = 0\n",
        "  for valeur in liste:\n",
        "    somme = somme + (valeur - m)**2\n",
        "  ecart = sqrt(somme/N)\n",
        "  return ..."
      ],
      "metadata": {
        "id": "T9p_AuMAGPfe"
      },
      "execution_count": null,
      "outputs": []
    },
    {
      "cell_type": "code",
      "source": [
        "ectype(L)"
      ],
      "metadata": {
        "id": "2yNm_DKiGY-w"
      },
      "execution_count": null,
      "outputs": []
    },
    {
      "cell_type": "markdown",
      "source": [
        "# Calcul de l'étendue de la série\n",
        "\n",
        "***Rappel : l'étendue d'une série de valeurs est la différence entre la valeur maximale et la valeur minimale.***\n",
        "\n",
        "La fonction `max` renvoie la valeur maximale de la liste `L`. Exécuter le programme puis appliquer la fonction `max` à notre liste `L`.\n",
        "\n",
        "\n",
        "Conpléter ensuite \n",
        "* La fonction `min` qui renvoie la valeur minimale de la liste.\n",
        "* La fonction `etendue` qui renvoie l'étendue de la liste.\n",
        "\n",
        "Déterminer ensuite ces deux valeurs pour notre liste `L`.\n"
      ],
      "metadata": {
        "id": "ebYomRi_sOxq"
      }
    },
    {
      "cell_type": "code",
      "source": [
        "def max (liste):\n",
        "    max = 0.0\n",
        "    for nb in liste:\n",
        "        if nb > max:\n",
        "          max = nb\n",
        "    return max"
      ],
      "metadata": {
        "id": "el7_g_GPtH_3"
      },
      "execution_count": null,
      "outputs": []
    },
    {
      "cell_type": "code",
      "source": [
        "max(L)"
      ],
      "metadata": {
        "id": "YYg98H29tPGp"
      },
      "execution_count": null,
      "outputs": []
    },
    {
      "cell_type": "code",
      "source": [
        "def min(liste):\n",
        "\n",
        "\n",
        "\n",
        "\n",
        "  "
      ],
      "metadata": {
        "id": "F4aBb2vdtiZY"
      },
      "execution_count": null,
      "outputs": []
    },
    {
      "cell_type": "code",
      "source": [
        "# Appeler ici la fonction min pour déterminer la valeur minimale de la liste L\n"
      ],
      "metadata": {
        "id": "9uIb-mXlt28U"
      },
      "execution_count": null,
      "outputs": []
    },
    {
      "cell_type": "code",
      "source": [
        "# écrire ici la fonction pour déterminer l'étendue d'une liste \n",
        "def ... \n",
        "\n"
      ],
      "metadata": {
        "id": "ZDdKc7m3t5aD"
      },
      "execution_count": null,
      "outputs": []
    },
    {
      "cell_type": "code",
      "source": [
        "# Appeler ici la fonction etendue pour déterminer la valeur minimale de la liste L\n"
      ],
      "metadata": {
        "id": "G_UrpgDruH8f"
      },
      "execution_count": null,
      "outputs": []
    },
    {
      "cell_type": "markdown",
      "source": [
        "# Autres indicateurs statistiques.\n",
        "Executer le programme suivant. \n",
        "\n",
        "Expliquer ce qu'il permet de tracer et interpréter les valeurs obtenues."
      ],
      "metadata": {
        "id": "SssiQ0hfuRWr"
      }
    },
    {
      "cell_type": "code",
      "source": [
        " import matplotlib.pyplot as plt\n",
        " plt.boxplot(L)"
      ],
      "metadata": {
        "id": "Usg58qzauowE"
      },
      "execution_count": null,
      "outputs": []
    },
    {
      "cell_type": "markdown",
      "source": [
        "*Votre réponse *"
      ],
      "metadata": {
        "id": "HF2iw-44wWgs"
      }
    },
    {
      "cell_type": "markdown",
      "source": [
        "# Intervalle [ μ - 2σ ; μ - 2σ ].\n",
        "\n",
        "Compléter la fonction `int2sigma` permettant de renvoyer le pourcentage de valeurs de la série situées dans l'intervalle [ μ - 2σ ; μ - 2σ ].\n",
        "\n",
        "Ici μ désigne la moyenne et σ l'écart-type de la série.\n",
        "\n",
        "A-t-on plus ou moins de 95% des données dans cet intervalle ?"
      ],
      "metadata": {
        "id": "-A8qotAuXtfl"
      }
    },
    {
      "cell_type": "code",
      "source": [
        "def int2sigma(liste):\n",
        "  N = len(liste)\n",
        "  m = moyenne(liste)\n",
        "  e = ectype(liste)\n",
        "  compteur = 0\n",
        "  for nb in liste:\n",
        "    if ...\n",
        "      compteur = ...\n",
        "  return ..."
      ],
      "metadata": {
        "id": "TwnxMXABX-v3"
      },
      "execution_count": null,
      "outputs": []
    },
    {
      "cell_type": "code",
      "source": [
        "int1sigma(L)"
      ],
      "metadata": {
        "colab": {
          "base_uri": "https://localhost:8080/"
        },
        "id": "14clx5IVYlYv",
        "outputId": "6ecf7ba4-ffd9-480c-b9a2-2114971fdf82"
      },
      "execution_count": null,
      "outputs": [
        {
          "output_type": "execute_result",
          "data": {
            "text/plain": [
              "0.727"
            ]
          },
          "metadata": {},
          "execution_count": 17
        }
      ]
    },
    {
      "cell_type": "markdown",
      "source": [
        "*Votre réponse *"
      ],
      "metadata": {
        "id": "ZND5i--EFHNz"
      }
    }
  ]
}